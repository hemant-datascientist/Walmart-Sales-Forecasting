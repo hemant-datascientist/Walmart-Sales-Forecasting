{
 "cells": [
  {
   "cell_type": "markdown",
   "id": "c497bd0d-11c4-4881-816a-24923373b553",
   "metadata": {},
   "source": [
    "***********"
   ]
  },
  {
   "cell_type": "markdown",
   "id": "eb9e6ea8-2864-478d-acb5-624a86495717",
   "metadata": {
    "tags": []
   },
   "source": [
    "# Sales Forcasting : Walmart   "
   ]
  },
  {
   "cell_type": "markdown",
   "id": "f4c82e22-fb05-4863-aa3c-7ccdca40f258",
   "metadata": {},
   "source": [
    "*******************"
   ]
  },
  {
   "cell_type": "markdown",
   "id": "10556d6e-08ba-40fe-855a-0ce481369f38",
   "metadata": {},
   "source": [
    "Table of Contents\n",
    "1. Problem Statement\n",
    "2. Project Objective\n",
    "3. Data Description\n",
    "4. Data Pre-processing Steps and Inspiration\n",
    "5. Choosing the Algorithm for the Project\n",
    "6. Motivation and Reasons For Choosing the Algorithm\n",
    "7. Assumptions\n",
    "8. Model Evaluation and Techniques\n",
    "9. Inferences from the Same\n",
    "10. Future Possibilities of the Project\n",
    "11. Conclusion\n",
    "12. References"
   ]
  },
  {
   "cell_type": "markdown",
   "id": "3080cb90-ef28-493e-a02e-20be25e3e8ab",
   "metadata": {},
   "source": [
    "***************************"
   ]
  },
  {
   "cell_type": "markdown",
   "id": "ce7935cb-8a3d-4004-8ef0-aa044bcd7210",
   "metadata": {},
   "source": [
    "1. **Problem Statement :**                          \n",
    "A retail store that has multiple outlets across the country are facing issues in managing the inventory - to match the demand with respect to supply.                    \n",
    "You are a data scientist, who has to come up with useful insights using the data and make prediction models to forecast the sales for X number of months/years."
   ]
  },
  {
   "cell_type": "markdown",
   "id": "da39efbc-f680-4d22-9740-794ca70e9dd1",
   "metadata": {},
   "source": [
    "*********************"
   ]
  },
  {
   "cell_type": "markdown",
   "id": "9dfaf332-dbec-4297-b221-9a26f5f4c473",
   "metadata": {},
   "source": [
    "2. **Project Objective :**              \n",
    "The main objective of the project is to provide useful insights to the retail store for improving inventory management and to develop a sales forecasting model for the next 12 weeks.\n"
   ]
  },
  {
   "cell_type": "markdown",
   "id": "f52d07d8-6a66-4ddb-8efd-b9cc73ae21ea",
   "metadata": {},
   "source": [
    "********************"
   ]
  },
  {
   "cell_type": "markdown",
   "id": "27ae1a1f-0321-4194-bad3-c9f37e2eef04",
   "metadata": {},
   "source": [
    "3. **Dataset Description**  \n",
    "The walmart.csv contains 6435 rows and 8 columns.\n",
    "\n",
    "| Feature Name | Description                          | \n",
    "|--------------|--------------------------------------|\n",
    "|   Store      | Store number                         |\n",
    "| Date         |Week of Sales                         |\n",
    "|Weekly_Sales  |Sales for the given store in that week|\n",
    "|Holiday_Flag  |If it is a holiday week               |\n",
    "|Temperature   |Temperature on the day of the sale    |\n",
    "|Fuel_Price    |Cost of the fuel in the region        |\n",
    "|CPI           |Consumer Price Index                  |\n",
    "|Unemployment  |Unemployment Rate                     |"
   ]
  },
  {
   "cell_type": "markdown",
   "id": "307f5815-06c0-4c7f-9c28-f9996bef2dcb",
   "metadata": {},
   "source": [
    "*******************"
   ]
  },
  {
   "cell_type": "markdown",
   "id": "01f69f1a-bd10-4ad8-8ec4-056f4085a146",
   "metadata": {},
   "source": [
    "4. **Data Pre-processing Steps and Inspiration :**                      \n",
    "The dataset needs to be pre-processed before it can be used for analysis and modeling. The steps involved are:\n",
    "\n",
    "- Check for missing values:                      \n",
    ">     If any missing values are present, they need to be handled appropriately.\n",
    "\n",
    "- Data cleaning:                      \n",
    ">     Check for any anomalies or incosistencies in the data and remove or correct them.\n",
    "\n",
    "- Feature engineering:                    \n",
    ">     Create new features that may help improve the accuracy of the sales forecasting model.\n",
    "\n",
    "- Data visualization:                 \n",
    ">     Visualize the data to gain insights and identify patterns."
   ]
  },
  {
   "cell_type": "markdown",
   "id": "3ad00e27-635e-47a4-b189-8ff40fef35f1",
   "metadata": {},
   "source": [
    "*****"
   ]
  },
  {
   "cell_type": "markdown",
   "id": "5d884265-ae51-41ea-bf2d-4700e97e5d3a",
   "metadata": {},
   "source": [
    "5. **Choosing the Algorithm for the Project :**              \n",
    "     The algorithm chosen for this project will depend on the type of problem we are trying to solve. For sales forecasting, time series forecasting models such as ARIMA,SARIMA and Prophet can be used."
   ]
  },
  {
   "cell_type": "markdown",
   "id": "2d0639ba-9838-41ba-ae1c-b2f968fa3654",
   "metadata": {},
   "source": [
    "*********"
   ]
  },
  {
   "cell_type": "markdown",
   "id": "24c4b375-f7ba-4b5e-9deb-39c0eb399b16",
   "metadata": {
    "tags": []
   },
   "source": [
    "6. **Motivation and Reasons For Choosing the Algorithm :**          \n",
    "    Time series forecasting models are a popular choice for sales forecasting because they take into account the time dimension and the patterns and trends in the data.             \n",
    "    These models are capable of capturing seasonality,trends and other time-based patterns in the data, which makes them well-suited for this problem.          "
   ]
  },
  {
   "cell_type": "markdown",
   "id": "531a4120-7283-4e63-a6ba-fb1b8e651985",
   "metadata": {},
   "source": [
    "*************"
   ]
  },
  {
   "cell_type": "markdown",
   "id": "50efec25-69f5-4b42-b2b0-e9a973500f0c",
   "metadata": {},
   "source": [
    "7. **Assumptions :**          \n",
    "    The sales forecasting model assumes that the past patterns and trends in the data will continue into the future and that there are no major changes or disruptions in the market or the company's operatons."
   ]
  },
  {
   "cell_type": "markdown",
   "id": "e7fc4a19-baf2-4fb5-951a-291548315837",
   "metadata": {},
   "source": [
    "***************"
   ]
  },
  {
   "cell_type": "markdown",
   "id": "da1bcbed-a4b7-43af-b9fb-e6cfe5a33185",
   "metadata": {},
   "source": [
    "8. **Model Evaluation and Techniques :**            \n",
    "    The model will be evaluated using various performance metrics such as Mean Absolute Error, Mean Squared Error(MSE) and Root Mean Error(RMSE).              \n",
    "    These metrics will help us determine the accuracy of the model and compare it with other models.                   "
   ]
  },
  {
   "cell_type": "markdown",
   "id": "8a0b2b34-cb62-41de-9748-29e9a274c078",
   "metadata": {},
   "source": [
    "********"
   ]
  },
  {
   "cell_type": "markdown",
   "id": "218d9666-efcd-46f0-b0c3-b1a59284bc77",
   "metadata": {},
   "source": [
    "9. **Inferences from the Same :**            \n",
    "    The insights obtained from the data analysis and modeling can be used to improve inventory management, optimize pricing strategies, and plan promotions and marketing campaigns.               \n",
    "    The sales forecasting model can help the company make better decisions related to production, supply chain management and budgeting.            "
   ]
  },
  {
   "cell_type": "markdown",
   "id": "eef75d1a-cba6-4bde-94eb-23daf1405c1e",
   "metadata": {},
   "source": [
    "************"
   ]
  },
  {
   "cell_type": "markdown",
   "id": "aba5b19e-4d48-4932-89d3-910266d832cb",
   "metadata": {},
   "source": [
    "10. **Future Possibilities of the Project :**         \n",
    "     The project can be expanded to include more features such as customer demographics, product categories, and competitor data.                   \n",
    "     This will help us build a more comprehensive and accurate sales forecasting model.                         \n",
    "     Additionally, the insights obtained from the analysis can be used to develop personalized marketing and promotional campaigns for specific stores and customer segments.              \n"
   ]
  },
  {
   "cell_type": "markdown",
   "id": "1928c527-3a62-4160-9fb0-cffa9fda6ed0",
   "metadata": {},
   "source": [
    "******"
   ]
  },
  {
   "cell_type": "markdown",
   "id": "d4428ddf-01f3-4fbf-b713-f0afc74c4557",
   "metadata": {},
   "source": [
    "11. **Conlusions:**      \n",
    "    In conclusion, sales forecasting is a complex and challenging task, but with the right data and the right algorithms, it can be done effectively.                             \n",
    "    By using the insights obtained from the analysis and the predictions from the sales forecasting model, the company can improve its inventory management and make better decisions related to budgeting and production."
   ]
  },
  {
   "cell_type": "markdown",
   "id": "8588e311-9466-4fe5-ab38-6f94c444c408",
   "metadata": {},
   "source": [
    "*************"
   ]
  },
  {
   "cell_type": "markdown",
   "id": "b730d535-5f6d-4714-9317-a14fdbda5d58",
   "metadata": {},
   "source": [
    "12. **References:**                              \n",
    "\n",
    "    1. **T**ime Series Forecasting: A Comprehensive Guide - Analytics Vidhya. (2020). Retrieved from [https://www.analyticsvidhya.com/blog/2016/02/time-series-forecasting-codes-python/](https://www.analyticsvidhya.com/blog/2016/02/time-series-forecasting-codes-python/)                                                                                                       \n",
    "    \n",
    "    2. Time Series Forecasting: A Practical Guide - DataCamp. (2020). Retrieved from [https://www.datacamp.com/community/tutorials/time-series-analysis-tutorial](https://www.datacamp.com/community/tutorials/time-series-analysis-tutorial)                                                                                                                                                                                                                                                                                       \n",
    "    3. Sales Forecasting: An Overview - Marketing91. (2020). Retrieved from [https://www.marketing91.com/sales-forecasting/](https://www.marketing91.com/sales-forecasting/)"
   ]
  },
  {
   "cell_type": "markdown",
   "id": "be13d8ed-184f-4619-8a1b-d02827f54d31",
   "metadata": {},
   "source": [
    "******************"
   ]
  },
  {
   "cell_type": "code",
   "execution_count": null,
   "id": "6cb99d25-055e-4a67-b689-4a9860272867",
   "metadata": {},
   "outputs": [],
   "source": []
  },
  {
   "cell_type": "code",
   "execution_count": null,
   "id": "fabbbb09-139e-4cb6-b7ea-a8b6fdc20c7d",
   "metadata": {},
   "outputs": [],
   "source": []
  },
  {
   "cell_type": "code",
   "execution_count": null,
   "id": "64796987-cc30-4994-8951-97390331b9c2",
   "metadata": {},
   "outputs": [],
   "source": []
  },
  {
   "cell_type": "code",
   "execution_count": null,
   "id": "488bc417-c335-4a6b-a580-714a5e79c4e6",
   "metadata": {},
   "outputs": [],
   "source": []
  },
  {
   "cell_type": "code",
   "execution_count": null,
   "id": "69cb242f-87c4-4559-b65a-5aabd0a5c813",
   "metadata": {},
   "outputs": [],
   "source": []
  },
  {
   "cell_type": "code",
   "execution_count": null,
   "id": "6fe64766-69a2-442e-b0c9-2bf14a452b91",
   "metadata": {},
   "outputs": [],
   "source": []
  },
  {
   "cell_type": "code",
   "execution_count": null,
   "id": "57a3c21e-fa1d-4f26-9dd8-1dca86d227de",
   "metadata": {},
   "outputs": [],
   "source": []
  },
  {
   "cell_type": "code",
   "execution_count": null,
   "id": "86b6b0f5-4fc8-4e03-a634-1c4c56ead24f",
   "metadata": {},
   "outputs": [],
   "source": []
  },
  {
   "cell_type": "code",
   "execution_count": null,
   "id": "5d8c4d0e-4b3d-4cb8-8bb2-fccda75d994a",
   "metadata": {},
   "outputs": [],
   "source": []
  },
  {
   "cell_type": "code",
   "execution_count": null,
   "id": "8430b103-9785-4ef2-8569-4cad602da7e6",
   "metadata": {},
   "outputs": [],
   "source": []
  },
  {
   "cell_type": "code",
   "execution_count": null,
   "id": "293c2d3e-6c27-4853-bdfb-ad8aaf4ced8f",
   "metadata": {},
   "outputs": [],
   "source": []
  },
  {
   "cell_type": "code",
   "execution_count": null,
   "id": "c675c156-b1fa-4f68-95f9-40e928a58e97",
   "metadata": {},
   "outputs": [],
   "source": []
  },
  {
   "cell_type": "code",
   "execution_count": 42,
   "id": "ceeb40aa-b8ed-480c-b586-46f4415a1f74",
   "metadata": {
    "tags": []
   },
   "outputs": [],
   "source": [
    "import pandas as pd\n",
    "import numpy as np\n",
    "import matplotlib.pyplot as plt\n",
    "%matplotlib inline\n",
    "import seaborn as sns "
   ]
  },
  {
   "cell_type": "code",
   "execution_count": 43,
   "id": "88a437d6-e006-4513-9d25-1113f81a2837",
   "metadata": {},
   "outputs": [
    {
     "data": {
      "text/html": [
       "<div><div id=78cbb520-796f-4668-87f5-605a9495f692 style=\"display:none; background-color:#9D6CFF; color:white; width:200px; height:30px; padding-left:5px; border-radius:4px; flex-direction:row; justify-content:space-around; align-items:center;\" onmouseover=\"this.style.backgroundColor='#BA9BF8'\" onmouseout=\"this.style.backgroundColor='#9D6CFF'\" onclick=\"window.commands?.execute('create-mitosheet-from-dataframe-output');\">See Full Dataframe in Mito</div> <script> if (window.commands?.hasCommand('create-mitosheet-from-dataframe-output')) document.getElementById('78cbb520-796f-4668-87f5-605a9495f692').style.display = 'flex' </script> <table border=\"1\" class=\"dataframe\">\n",
       "  <thead>\n",
       "    <tr style=\"text-align: right;\">\n",
       "      <th></th>\n",
       "      <th>Store</th>\n",
       "      <th>Date</th>\n",
       "      <th>Weekly_Sales</th>\n",
       "      <th>Holiday_Flag</th>\n",
       "      <th>Temperature</th>\n",
       "      <th>Fuel_Price</th>\n",
       "      <th>CPI</th>\n",
       "      <th>Unemployment</th>\n",
       "    </tr>\n",
       "  </thead>\n",
       "  <tbody>\n",
       "    <tr>\n",
       "      <th>0</th>\n",
       "      <td>1</td>\n",
       "      <td>05-02-2010</td>\n",
       "      <td>1643690.90</td>\n",
       "      <td>0</td>\n",
       "      <td>42.31</td>\n",
       "      <td>2.57</td>\n",
       "      <td>211.10</td>\n",
       "      <td>8.11</td>\n",
       "    </tr>\n",
       "    <tr>\n",
       "      <th>1</th>\n",
       "      <td>1</td>\n",
       "      <td>12-02-2010</td>\n",
       "      <td>1641957.44</td>\n",
       "      <td>1</td>\n",
       "      <td>38.51</td>\n",
       "      <td>2.55</td>\n",
       "      <td>211.24</td>\n",
       "      <td>8.11</td>\n",
       "    </tr>\n",
       "  </tbody>\n",
       "</table></div>"
      ],
      "text/plain": [
       "   Store        Date  Weekly_Sales  Holiday_Flag  Temperature  Fuel_Price  \\\n",
       "0      1  05-02-2010    1643690.90             0        42.31        2.57   \n",
       "1      1  12-02-2010    1641957.44             1        38.51        2.55   \n",
       "\n",
       "     CPI  Unemployment  \n",
       "0 211.10          8.11  \n",
       "1 211.24          8.11  "
      ]
     },
     "execution_count": 43,
     "metadata": {},
     "output_type": "execute_result"
    }
   ],
   "source": [
    "data = pd.read_csv('Walmart.csv')\n",
    "data.head(2)"
   ]
  },
  {
   "cell_type": "code",
   "execution_count": 44,
   "id": "f5839784-0048-4c0c-9956-9ebaa890ec0d",
   "metadata": {},
   "outputs": [
    {
     "name": "stdout",
     "output_type": "stream",
     "text": [
      "<class 'pandas.core.frame.DataFrame'>\n",
      "RangeIndex: 6435 entries, 0 to 6434\n",
      "Data columns (total 8 columns):\n",
      " #   Column        Non-Null Count  Dtype  \n",
      "---  ------        --------------  -----  \n",
      " 0   Store         6435 non-null   int64  \n",
      " 1   Date          6435 non-null   object \n",
      " 2   Weekly_Sales  6435 non-null   float64\n",
      " 3   Holiday_Flag  6435 non-null   int64  \n",
      " 4   Temperature   6435 non-null   float64\n",
      " 5   Fuel_Price    6435 non-null   float64\n",
      " 6   CPI           6435 non-null   float64\n",
      " 7   Unemployment  6435 non-null   float64\n",
      "dtypes: float64(5), int64(2), object(1)\n",
      "memory usage: 402.3+ KB\n"
     ]
    }
   ],
   "source": [
    "data.info()"
   ]
  },
  {
   "cell_type": "code",
   "execution_count": 4,
   "id": "4c71544b-cab9-4921-a261-8a2cfcf87691",
   "metadata": {},
   "outputs": [],
   "source": [
    "data['Date'] = pd.to_datetime(data.Date)"
   ]
  },
  {
   "cell_type": "code",
   "execution_count": 5,
   "id": "da22132c-5ac0-49a7-9704-011407c1d934",
   "metadata": {},
   "outputs": [
    {
     "data": {
      "text/html": [
       "<div><div id=d6f8639c-3611-4bb9-b4d0-3c3159d3c982 style=\"display:none; background-color:#9D6CFF; color:white; width:200px; height:30px; padding-left:5px; border-radius:4px; flex-direction:row; justify-content:space-around; align-items:center;\" onmouseover=\"this.style.backgroundColor='#BA9BF8'\" onmouseout=\"this.style.backgroundColor='#9D6CFF'\" onclick=\"window.commands?.execute('create-mitosheet-from-dataframe-output');\">See Full Dataframe in Mito</div> <script> if (window.commands?.hasCommand('create-mitosheet-from-dataframe-output')) document.getElementById('d6f8639c-3611-4bb9-b4d0-3c3159d3c982').style.display = 'flex' </script> <table border=\"1\" class=\"dataframe\">\n",
       "  <thead>\n",
       "    <tr style=\"text-align: right;\">\n",
       "      <th></th>\n",
       "      <th>Store</th>\n",
       "      <th>Date</th>\n",
       "      <th>Weekly_Sales</th>\n",
       "      <th>Holiday_Flag</th>\n",
       "      <th>Temperature</th>\n",
       "      <th>Fuel_Price</th>\n",
       "      <th>CPI</th>\n",
       "      <th>Unemployment</th>\n",
       "    </tr>\n",
       "  </thead>\n",
       "  <tbody>\n",
       "  </tbody>\n",
       "</table></div>"
      ],
      "text/plain": [
       "Empty DataFrame\n",
       "Columns: [Store, Date, Weekly_Sales, Holiday_Flag, Temperature, Fuel_Price, CPI, Unemployment]\n",
       "Index: []"
      ]
     },
     "execution_count": 5,
     "metadata": {},
     "output_type": "execute_result"
    }
   ],
   "source": [
    "# check duplicates\n",
    "data[data.duplicated()]"
   ]
  },
  {
   "cell_type": "code",
   "execution_count": 6,
   "id": "316e0ff5-6b84-4e79-ab01-a2ccc1e1a192",
   "metadata": {},
   "outputs": [
    {
     "name": "stdout",
     "output_type": "stream",
     "text": [
      "<class 'pandas.core.frame.DataFrame'>\n",
      "RangeIndex: 6435 entries, 0 to 6434\n",
      "Data columns (total 8 columns):\n",
      " #   Column        Non-Null Count  Dtype         \n",
      "---  ------        --------------  -----         \n",
      " 0   Store         6435 non-null   int64         \n",
      " 1   Date          6435 non-null   datetime64[ns]\n",
      " 2   Weekly_Sales  6435 non-null   float64       \n",
      " 3   Holiday_Flag  6435 non-null   int64         \n",
      " 4   Temperature   6435 non-null   float64       \n",
      " 5   Fuel_Price    6435 non-null   float64       \n",
      " 6   CPI           6435 non-null   float64       \n",
      " 7   Unemployment  6435 non-null   float64       \n",
      "dtypes: datetime64[ns](1), float64(5), int64(2)\n",
      "memory usage: 402.3 KB\n"
     ]
    }
   ],
   "source": [
    "data.info()"
   ]
  },
  {
   "cell_type": "code",
   "execution_count": 7,
   "id": "a7938b15-bfa7-43b3-ae96-04dcfc6f5fe6",
   "metadata": {},
   "outputs": [
    {
     "data": {
      "text/plain": [
       "Index(['store', 'date', 'weekly_sales', 'holiday_flag', 'temperature',\n",
       "       'fuel_price', 'cpi', 'unemployment'],\n",
       "      dtype='object')"
      ]
     },
     "execution_count": 7,
     "metadata": {},
     "output_type": "execute_result"
    }
   ],
   "source": [
    "data.columns = [col.lower() for col in data.columns]\n",
    "col = data.columns\n",
    "col"
   ]
  },
  {
   "cell_type": "code",
   "execution_count": 8,
   "id": "66a0650d-d80f-48a0-82e5-2363c4a1187c",
   "metadata": {},
   "outputs": [],
   "source": [
    "def find_outlier_rows(data, col, level='both'):\n",
    "    # compute the interquartile range\n",
    "    iqr = data[col].quantile(0.75) - data[col].quantile(0.25)\n",
    "    # compute the upper and lower bounds for identifying outliers\n",
    "    lower_bound = data[col].quantile(0.25) - 1.5 * iqr\n",
    "    upper_bound = data[col].quantile(0.75) + 1.5 * iqr\n",
    "    # filter the rows based on the level of outliers to return\n",
    "    if level == 'lower':\n",
    "        return data[data[col] < lower_bound]\n",
    "    elif level == 'upper':\n",
    "        return data[data[col] > upper_bound]\n",
    "    else:\n",
    "        return data[(data[col] > upper_bound) | (data[col] < lower_bound)]"
   ]
  },
  {
   "cell_type": "code",
   "execution_count": 9,
   "id": "84cbadd0-982d-42e4-9487-5a7005362bca",
   "metadata": {},
   "outputs": [],
   "source": [
    "def count_outliers(df):\n",
    "    # select numeric columns\n",
    "    df_numeric = df.select_dtypes(include=['int', 'float'])\n",
    "    # get column names\n",
    "    columns = df_numeric.columns\n",
    "    # find the name of all columns with outliers\n",
    "    outlier_cols = [col for col in columns if len(find_outlier_rows(df_numeric, col)) != 0]\n",
    "    # dataframe to store the results\n",
    "    outliers_df = pd.DataFrame(columns=['outlier_counts', 'outlier_percent'])\n",
    "    # count the outliers and compute the percentage of outliers for each column\n",
    "    for col in outlier_cols:\n",
    "                    outlier_count = len(find_outlier_rows(df_numeric, col))\n",
    "                    all_entries = len(df[col])\n",
    "                    outlier_percent = round(outlier_count * 100 / all_entries, 2)\n",
    "                    # store the results in the dataframe\n",
    "                    outliers_df.loc[col] = [outlier_count, outlier_percent]\n",
    "                    # return the resulting dataframe\n",
    "                    return outliers_df"
   ]
  },
  {
   "cell_type": "markdown",
   "id": "ac53c0f9-8038-494c-b93a-4089625c038b",
   "metadata": {},
   "source": [
    "# count outliers in dataframe using fuctions"
   ]
  },
  {
   "cell_type": "code",
   "execution_count": 10,
   "id": "95c3d418-4671-4b9d-a144-3cbb13d9a177",
   "metadata": {},
   "outputs": [
    {
     "data": {
      "text/html": [
       "<div><div id=3122a502-1d11-49fa-9b21-9fef941be572 style=\"display:none; background-color:#9D6CFF; color:white; width:200px; height:30px; padding-left:5px; border-radius:4px; flex-direction:row; justify-content:space-around; align-items:center;\" onmouseover=\"this.style.backgroundColor='#BA9BF8'\" onmouseout=\"this.style.backgroundColor='#9D6CFF'\" onclick=\"window.commands?.execute('create-mitosheet-from-dataframe-output');\">See Full Dataframe in Mito</div> <script> if (window.commands?.hasCommand('create-mitosheet-from-dataframe-output')) document.getElementById('3122a502-1d11-49fa-9b21-9fef941be572').style.display = 'flex' </script> <table border=\"1\" class=\"dataframe\">\n",
       "  <thead>\n",
       "    <tr style=\"text-align: right;\">\n",
       "      <th></th>\n",
       "      <th>outlier_counts</th>\n",
       "      <th>outlier_percent</th>\n",
       "    </tr>\n",
       "  </thead>\n",
       "  <tbody>\n",
       "    <tr>\n",
       "      <th>weekly_sales</th>\n",
       "      <td>34.0</td>\n",
       "      <td>0.53</td>\n",
       "    </tr>\n",
       "  </tbody>\n",
       "</table></div>"
      ],
      "text/plain": [
       "              outlier_counts  outlier_percent\n",
       "weekly_sales            34.0             0.53"
      ]
     },
     "execution_count": 10,
     "metadata": {},
     "output_type": "execute_result"
    }
   ],
   "source": [
    "count_outliers(data).sort_values('outlier_counts',ascending=False)"
   ]
  },
  {
   "cell_type": "code",
   "execution_count": 11,
   "id": "dacaf149-81b6-4165-ad3f-ff3e760bebc3",
   "metadata": {},
   "outputs": [
    {
     "data": {
      "text/plain": [
       "(34, 8)"
      ]
     },
     "execution_count": 11,
     "metadata": {},
     "output_type": "execute_result"
    }
   ],
   "source": [
    "find_outlier_rows(data,'weekly_sales').shape"
   ]
  },
  {
   "cell_type": "code",
   "execution_count": 12,
   "id": "43a406ae-4355-4acd-b5b2-3bdae8a5b8d0",
   "metadata": {},
   "outputs": [
    {
     "data": {
      "text/html": [
       "<div><div id=a9d09737-9c63-464f-b86e-772154970ad9 style=\"display:none; background-color:#9D6CFF; color:white; width:200px; height:30px; padding-left:5px; border-radius:4px; flex-direction:row; justify-content:space-around; align-items:center;\" onmouseover=\"this.style.backgroundColor='#BA9BF8'\" onmouseout=\"this.style.backgroundColor='#9D6CFF'\" onclick=\"window.commands?.execute('create-mitosheet-from-dataframe-output');\">See Full Dataframe in Mito</div> <script> if (window.commands?.hasCommand('create-mitosheet-from-dataframe-output')) document.getElementById('a9d09737-9c63-464f-b86e-772154970ad9').style.display = 'flex' </script> <table border=\"1\" class=\"dataframe\">\n",
       "  <thead>\n",
       "    <tr style=\"text-align: right;\">\n",
       "      <th></th>\n",
       "      <th>store</th>\n",
       "      <th>date</th>\n",
       "      <th>weekly_sales</th>\n",
       "      <th>holiday_flag</th>\n",
       "      <th>temperature</th>\n",
       "      <th>fuel_price</th>\n",
       "      <th>cpi</th>\n",
       "      <th>unemployment</th>\n",
       "    </tr>\n",
       "  </thead>\n",
       "  <tbody>\n",
       "    <tr>\n",
       "      <th>189</th>\n",
       "      <td>2</td>\n",
       "      <td>2010-12-24</td>\n",
       "      <td>3436007.68</td>\n",
       "      <td>0</td>\n",
       "      <td>49.97</td>\n",
       "      <td>2.886</td>\n",
       "      <td>211.064660</td>\n",
       "      <td>8.163</td>\n",
       "    </tr>\n",
       "    <tr>\n",
       "      <th>241</th>\n",
       "      <td>2</td>\n",
       "      <td>2011-12-23</td>\n",
       "      <td>3224369.80</td>\n",
       "      <td>0</td>\n",
       "      <td>46.66</td>\n",
       "      <td>3.112</td>\n",
       "      <td>218.999550</td>\n",
       "      <td>7.441</td>\n",
       "    </tr>\n",
       "    <tr>\n",
       "      <th>471</th>\n",
       "      <td>4</td>\n",
       "      <td>2010-11-26</td>\n",
       "      <td>2789469.45</td>\n",
       "      <td>1</td>\n",
       "      <td>48.08</td>\n",
       "      <td>2.752</td>\n",
       "      <td>126.669267</td>\n",
       "      <td>7.127</td>\n",
       "    </tr>\n",
       "    <tr>\n",
       "      <th>474</th>\n",
       "      <td>4</td>\n",
       "      <td>2010-12-17</td>\n",
       "      <td>2740057.14</td>\n",
       "      <td>0</td>\n",
       "      <td>46.57</td>\n",
       "      <td>2.884</td>\n",
       "      <td>126.879484</td>\n",
       "      <td>7.127</td>\n",
       "    </tr>\n",
       "    <tr>\n",
       "      <th>475</th>\n",
       "      <td>4</td>\n",
       "      <td>2010-12-24</td>\n",
       "      <td>3526713.39</td>\n",
       "      <td>0</td>\n",
       "      <td>43.21</td>\n",
       "      <td>2.887</td>\n",
       "      <td>126.983581</td>\n",
       "      <td>7.127</td>\n",
       "    </tr>\n",
       "    <tr>\n",
       "      <th>...</th>\n",
       "      <td>...</td>\n",
       "      <td>...</td>\n",
       "      <td>...</td>\n",
       "      <td>...</td>\n",
       "      <td>...</td>\n",
       "      <td>...</td>\n",
       "      <td>...</td>\n",
       "      <td>...</td>\n",
       "    </tr>\n",
       "    <tr>\n",
       "      <th>2814</th>\n",
       "      <td>20</td>\n",
       "      <td>2011-12-16</td>\n",
       "      <td>2762816.65</td>\n",
       "      <td>0</td>\n",
       "      <td>37.16</td>\n",
       "      <td>3.413</td>\n",
       "      <td>212.068504</td>\n",
       "      <td>7.082</td>\n",
       "    </tr>\n",
       "    <tr>\n",
       "      <th>2815</th>\n",
       "      <td>20</td>\n",
       "      <td>2011-12-23</td>\n",
       "      <td>3555371.03</td>\n",
       "      <td>0</td>\n",
       "      <td>40.19</td>\n",
       "      <td>3.389</td>\n",
       "      <td>212.236040</td>\n",
       "      <td>7.082</td>\n",
       "    </tr>\n",
       "    <tr>\n",
       "      <th>3192</th>\n",
       "      <td>23</td>\n",
       "      <td>2010-12-24</td>\n",
       "      <td>2734277.10</td>\n",
       "      <td>0</td>\n",
       "      <td>22.96</td>\n",
       "      <td>3.150</td>\n",
       "      <td>132.747742</td>\n",
       "      <td>5.287</td>\n",
       "    </tr>\n",
       "    <tr>\n",
       "      <th>3764</th>\n",
       "      <td>27</td>\n",
       "      <td>2010-12-24</td>\n",
       "      <td>3078162.08</td>\n",
       "      <td>0</td>\n",
       "      <td>31.34</td>\n",
       "      <td>3.309</td>\n",
       "      <td>136.597273</td>\n",
       "      <td>8.021</td>\n",
       "    </tr>\n",
       "    <tr>\n",
       "      <th>3816</th>\n",
       "      <td>27</td>\n",
       "      <td>2011-12-23</td>\n",
       "      <td>2739019.75</td>\n",
       "      <td>0</td>\n",
       "      <td>41.59</td>\n",
       "      <td>3.587</td>\n",
       "      <td>140.528765</td>\n",
       "      <td>7.906</td>\n",
       "    </tr>\n",
       "  </tbody>\n",
       "</table></div>"
      ],
      "text/plain": [
       "      store       date  weekly_sales  holiday_flag  temperature  fuel_price  \\\n",
       "189       2 2010-12-24    3436007.68             0        49.97       2.886   \n",
       "241       2 2011-12-23    3224369.80             0        46.66       3.112   \n",
       "471       4 2010-11-26    2789469.45             1        48.08       2.752   \n",
       "474       4 2010-12-17    2740057.14             0        46.57       2.884   \n",
       "475       4 2010-12-24    3526713.39             0        43.21       2.887   \n",
       "523       4 2011-11-25    3004702.33             1        47.96       3.225   \n",
       "526       4 2011-12-16    2771397.17             0        36.44       3.149   \n",
       "527       4 2011-12-23    3676388.98             0        35.92       3.103   \n",
       "761       6 2010-12-24    2727575.18             0        55.07       2.886   \n",
       "1329     10 2010-11-26    2939946.38             1        55.33       3.162   \n",
       "1332     10 2010-12-17    2811646.85             0        59.15       3.125   \n",
       "1333     10 2010-12-24    3749057.69             0        57.06       3.236   \n",
       "1381     10 2011-11-25    2950198.64             1        60.68       3.760   \n",
       "1385     10 2011-12-23    3487986.89             0        48.36       3.541   \n",
       "1758     13 2010-11-26    2766400.05             1        28.22       2.830   \n",
       "1761     13 2010-12-17    2771646.81             0        35.21       2.842   \n",
       "1762     13 2010-12-24    3595903.20             0        34.90       2.846   \n",
       "1810     13 2011-11-25    2864170.61             1        38.89       3.445   \n",
       "1813     13 2011-12-16    2760346.71             0        27.85       3.282   \n",
       "1814     13 2011-12-23    3556766.03             0        24.76       3.186   \n",
       "1901     14 2010-11-26    2921709.71             1        46.15       3.039   \n",
       "1904     14 2010-12-17    2762861.41             0        30.51       3.140   \n",
       "1905     14 2010-12-24    3818686.45             0        30.59       3.141   \n",
       "1957     14 2011-12-23    3369068.99             0        42.27       3.389   \n",
       "2759     20 2010-11-26    2811634.04             1        46.66       3.039   \n",
       "2761     20 2010-10-12    2752122.08             0        24.27       3.109   \n",
       "2762     20 2010-12-17    2819193.17             0        24.07       3.140   \n",
       "2763     20 2010-12-24    3766687.43             0        25.17       3.141   \n",
       "2811     20 2011-11-25    2906233.25             1        46.38       3.492   \n",
       "2814     20 2011-12-16    2762816.65             0        37.16       3.413   \n",
       "2815     20 2011-12-23    3555371.03             0        40.19       3.389   \n",
       "3192     23 2010-12-24    2734277.10             0        22.96       3.150   \n",
       "3764     27 2010-12-24    3078162.08             0        31.34       3.309   \n",
       "3816     27 2011-12-23    2739019.75             0        41.59       3.587   \n",
       "\n",
       "             cpi  unemployment  \n",
       "189   211.064660         8.163  \n",
       "241   218.999550         7.441  \n",
       "471   126.669267         7.127  \n",
       "474   126.879484         7.127  \n",
       "475   126.983581         7.127  \n",
       "523   129.836400         5.143  \n",
       "526   129.898065         5.143  \n",
       "527   129.984548         5.143  \n",
       "761   212.916508         7.007  \n",
       "1329  126.669267         9.003  \n",
       "1332  126.879484         9.003  \n",
       "1333  126.983581         9.003  \n",
       "1381  129.836400         7.874  \n",
       "1385  129.984548         7.874  \n",
       "1758  126.669267         7.795  \n",
       "1761  126.879484         7.795  \n",
       "1762  126.983581         7.795  \n",
       "1810  129.836400         6.392  \n",
       "1813  129.898065         6.392  \n",
       "1814  129.984548         6.392  \n",
       "1901  182.783277         8.724  \n",
       "1904  182.517732         8.724  \n",
       "1905  182.544590         8.724  \n",
       "1957  188.929975         8.523  \n",
       "2759  204.962100         7.484  \n",
       "2761  204.687738         7.484  \n",
       "2762  204.632119         7.484  \n",
       "2763  204.637673         7.484  \n",
       "2811  211.412076         7.082  \n",
       "2814  212.068504         7.082  \n",
       "2815  212.236040         7.082  \n",
       "3192  132.747742         5.287  \n",
       "3764  136.597273         8.021  \n",
       "3816  140.528765         7.906  "
      ]
     },
     "execution_count": 12,
     "metadata": {},
     "output_type": "execute_result"
    }
   ],
   "source": [
    "find_outlier_rows(data,'weekly_sales')"
   ]
  },
  {
   "cell_type": "code",
   "execution_count": 13,
   "id": "3c09848b-d5c8-4e80-8e7b-f5c9289bdec4",
   "metadata": {},
   "outputs": [
    {
     "data": {
      "text/html": [
       "<div><div id=31b124b5-eb72-45cb-84aa-e9fe6bb2004f style=\"display:none; background-color:#9D6CFF; color:white; width:200px; height:30px; padding-left:5px; border-radius:4px; flex-direction:row; justify-content:space-around; align-items:center;\" onmouseover=\"this.style.backgroundColor='#BA9BF8'\" onmouseout=\"this.style.backgroundColor='#9D6CFF'\" onclick=\"window.commands?.execute('create-mitosheet-from-dataframe-output');\">See Full Dataframe in Mito</div> <script> if (window.commands?.hasCommand('create-mitosheet-from-dataframe-output')) document.getElementById('31b124b5-eb72-45cb-84aa-e9fe6bb2004f').style.display = 'flex' </script> <table border=\"1\" class=\"dataframe\">\n",
       "  <thead>\n",
       "    <tr style=\"text-align: right;\">\n",
       "      <th></th>\n",
       "      <th>store</th>\n",
       "      <th>weekly_sales</th>\n",
       "      <th>holiday_flag</th>\n",
       "      <th>temperature</th>\n",
       "      <th>fuel_price</th>\n",
       "      <th>cpi</th>\n",
       "      <th>unemployment</th>\n",
       "    </tr>\n",
       "  </thead>\n",
       "  <tbody>\n",
       "    <tr>\n",
       "      <th>count</th>\n",
       "      <td>6435.000000</td>\n",
       "      <td>6.435000e+03</td>\n",
       "      <td>6435.000000</td>\n",
       "      <td>6435.000000</td>\n",
       "      <td>6435.000000</td>\n",
       "      <td>6435.000000</td>\n",
       "      <td>6435.000000</td>\n",
       "    </tr>\n",
       "    <tr>\n",
       "      <th>mean</th>\n",
       "      <td>23.000000</td>\n",
       "      <td>1.046965e+06</td>\n",
       "      <td>0.069930</td>\n",
       "      <td>60.663782</td>\n",
       "      <td>3.358607</td>\n",
       "      <td>171.578394</td>\n",
       "      <td>7.999151</td>\n",
       "    </tr>\n",
       "    <tr>\n",
       "      <th>std</th>\n",
       "      <td>12.988182</td>\n",
       "      <td>5.643666e+05</td>\n",
       "      <td>0.255049</td>\n",
       "      <td>18.444933</td>\n",
       "      <td>0.459020</td>\n",
       "      <td>39.356712</td>\n",
       "      <td>1.875885</td>\n",
       "    </tr>\n",
       "    <tr>\n",
       "      <th>min</th>\n",
       "      <td>1.000000</td>\n",
       "      <td>2.099862e+05</td>\n",
       "      <td>0.000000</td>\n",
       "      <td>-2.060000</td>\n",
       "      <td>2.472000</td>\n",
       "      <td>126.064000</td>\n",
       "      <td>3.879000</td>\n",
       "    </tr>\n",
       "    <tr>\n",
       "      <th>25%</th>\n",
       "      <td>12.000000</td>\n",
       "      <td>5.533501e+05</td>\n",
       "      <td>0.000000</td>\n",
       "      <td>47.460000</td>\n",
       "      <td>2.933000</td>\n",
       "      <td>131.735000</td>\n",
       "      <td>6.891000</td>\n",
       "    </tr>\n",
       "    <tr>\n",
       "      <th>50%</th>\n",
       "      <td>23.000000</td>\n",
       "      <td>9.607460e+05</td>\n",
       "      <td>0.000000</td>\n",
       "      <td>62.670000</td>\n",
       "      <td>3.445000</td>\n",
       "      <td>182.616521</td>\n",
       "      <td>7.874000</td>\n",
       "    </tr>\n",
       "    <tr>\n",
       "      <th>75%</th>\n",
       "      <td>34.000000</td>\n",
       "      <td>1.420159e+06</td>\n",
       "      <td>0.000000</td>\n",
       "      <td>74.940000</td>\n",
       "      <td>3.735000</td>\n",
       "      <td>212.743293</td>\n",
       "      <td>8.622000</td>\n",
       "    </tr>\n",
       "    <tr>\n",
       "      <th>max</th>\n",
       "      <td>45.000000</td>\n",
       "      <td>3.818686e+06</td>\n",
       "      <td>1.000000</td>\n",
       "      <td>100.140000</td>\n",
       "      <td>4.468000</td>\n",
       "      <td>227.232807</td>\n",
       "      <td>14.313000</td>\n",
       "    </tr>\n",
       "  </tbody>\n",
       "</table></div>"
      ],
      "text/plain": [
       "             store  weekly_sales  holiday_flag  temperature   fuel_price  \\\n",
       "count  6435.000000  6.435000e+03   6435.000000  6435.000000  6435.000000   \n",
       "mean     23.000000  1.046965e+06      0.069930    60.663782     3.358607   \n",
       "std      12.988182  5.643666e+05      0.255049    18.444933     0.459020   \n",
       "min       1.000000  2.099862e+05      0.000000    -2.060000     2.472000   \n",
       "25%      12.000000  5.533501e+05      0.000000    47.460000     2.933000   \n",
       "50%      23.000000  9.607460e+05      0.000000    62.670000     3.445000   \n",
       "75%      34.000000  1.420159e+06      0.000000    74.940000     3.735000   \n",
       "max      45.000000  3.818686e+06      1.000000   100.140000     4.468000   \n",
       "\n",
       "               cpi  unemployment  \n",
       "count  6435.000000   6435.000000  \n",
       "mean    171.578394      7.999151  \n",
       "std      39.356712      1.875885  \n",
       "min     126.064000      3.879000  \n",
       "25%     131.735000      6.891000  \n",
       "50%     182.616521      7.874000  \n",
       "75%     212.743293      8.622000  \n",
       "max     227.232807     14.313000  "
      ]
     },
     "execution_count": 13,
     "metadata": {},
     "output_type": "execute_result"
    }
   ],
   "source": [
    "data.describe()"
   ]
  },
  {
   "cell_type": "code",
   "execution_count": 14,
   "id": "9ac19bb6-c902-4c19-969c-ebedd411c89b",
   "metadata": {},
   "outputs": [
    {
     "data": {
      "text/plain": [
       "array([[<AxesSubplot:title={'center':'store'}>,\n",
       "        <AxesSubplot:title={'center':'date'}>,\n",
       "        <AxesSubplot:title={'center':'weekly_sales'}>],\n",
       "       [<AxesSubplot:title={'center':'holiday_flag'}>,\n",
       "        <AxesSubplot:title={'center':'temperature'}>,\n",
       "        <AxesSubplot:title={'center':'fuel_price'}>],\n",
       "       [<AxesSubplot:title={'center':'cpi'}>,\n",
       "        <AxesSubplot:title={'center':'unemployment'}>, <AxesSubplot:>]],\n",
       "      dtype=object)"
      ]
     },
     "execution_count": 14,
     "metadata": {},
     "output_type": "execute_result"
    },
    {
     "data": {
      "image/png": "[encoded data removed]",
      "text/plain": [
       "<Figure size 2160x1440 with 9 Axes>"
      ]
     },
     "metadata": {
      "needs_background": "light"
     },
     "output_type": "display_data"
    }
   ],
   "source": [
    "data.hist(figsize=(30,20))"
   ]
  },
  {
   "cell_type": "code",
   "execution_count": 15,
   "id": "9183f733-026f-462f-9891-d187c8866cc4",
   "metadata": {},
   "outputs": [
    {
     "data": {
      "image/png": "[encoded data removed]",
      "text/plain": [
       "<Figure size 1440x360 with 1 Axes>"
      ]
     },
     "metadata": {
      "needs_background": "light"
     },
     "output_type": "display_data"
    }
   ],
   "source": [
    "fig, ax = plt.subplots(figsize=(20, 5))\n",
    "sns.lineplot(x=data.date, y=(data.weekly_sales/1e6))\n",
    "plt.xlabel('months')\n",
    "plt.ylabel('Weekly Sales (in million USD)')\n",
    "plt.title('Weekly Sales Trend',fontdict={'fontsize': 16, 'color':'red'}, pad=5)\n",
    "annot = ax.annotate(\"\", xy=(0,0), xytext=(20,20),textcoords=\"offset points\",\n",
    "                    bbox=dict(boxstyle=\"round\", fc=\"w\"),\n",
    "                    arrowprops=dict(arrowstyle=\"->\"))\n",
    "annot.set_visible(False)\n",
    "plt.show()"
   ]
  },
  {
   "cell_type": "code",
   "execution_count": 16,
   "id": "feecac38-1757-461e-8ccf-0ee9f9410d8d",
   "metadata": {},
   "outputs": [
    {
     "data": {
      "text/html": [
       "<div><div id=33813f79-3a56-4c75-9f6e-40595a02b6b8 style=\"display:none; background-color:#9D6CFF; color:white; width:200px; height:30px; padding-left:5px; border-radius:4px; flex-direction:row; justify-content:space-around; align-items:center;\" onmouseover=\"this.style.backgroundColor='#BA9BF8'\" onmouseout=\"this.style.backgroundColor='#9D6CFF'\" onclick=\"window.commands?.execute('create-mitosheet-from-dataframe-output');\">See Full Dataframe in Mito</div> <script> if (window.commands?.hasCommand('create-mitosheet-from-dataframe-output')) document.getElementById('33813f79-3a56-4c75-9f6e-40595a02b6b8').style.display = 'flex' </script> <table border=\"1\" class=\"dataframe\">\n",
       "  <thead>\n",
       "    <tr style=\"text-align: right;\">\n",
       "      <th></th>\n",
       "      <th>store</th>\n",
       "      <th>date</th>\n",
       "      <th>weekly_sales</th>\n",
       "      <th>holiday_flag</th>\n",
       "      <th>temperature</th>\n",
       "      <th>fuel_price</th>\n",
       "      <th>cpi</th>\n",
       "      <th>unemployment</th>\n",
       "      <th>employment</th>\n",
       "      <th>year</th>\n",
       "      <th>month</th>\n",
       "      <th>day</th>\n",
       "      <th>day_of_week</th>\n",
       "    </tr>\n",
       "  </thead>\n",
       "  <tbody>\n",
       "    <tr>\n",
       "      <th>0</th>\n",
       "      <td>1</td>\n",
       "      <td>2010-05-02</td>\n",
       "      <td>1643690.90</td>\n",
       "      <td>0</td>\n",
       "      <td>42.31</td>\n",
       "      <td>2.572</td>\n",
       "      <td>211.096358</td>\n",
       "      <td>8.106</td>\n",
       "      <td>91.894</td>\n",
       "      <td>2010</td>\n",
       "      <td>5</td>\n",
       "      <td>2</td>\n",
       "      <td>6</td>\n",
       "    </tr>\n",
       "    <tr>\n",
       "      <th>1</th>\n",
       "      <td>1</td>\n",
       "      <td>2010-12-02</td>\n",
       "      <td>1641957.44</td>\n",
       "      <td>1</td>\n",
       "      <td>38.51</td>\n",
       "      <td>2.548</td>\n",
       "      <td>211.242170</td>\n",
       "      <td>8.106</td>\n",
       "      <td>91.894</td>\n",
       "      <td>2010</td>\n",
       "      <td>12</td>\n",
       "      <td>2</td>\n",
       "      <td>3</td>\n",
       "    </tr>\n",
       "    <tr>\n",
       "      <th>2</th>\n",
       "      <td>1</td>\n",
       "      <td>2010-02-19</td>\n",
       "      <td>1611968.17</td>\n",
       "      <td>0</td>\n",
       "      <td>39.93</td>\n",
       "      <td>2.514</td>\n",
       "      <td>211.289143</td>\n",
       "      <td>8.106</td>\n",
       "      <td>91.894</td>\n",
       "      <td>2010</td>\n",
       "      <td>2</td>\n",
       "      <td>19</td>\n",
       "      <td>4</td>\n",
       "    </tr>\n",
       "  </tbody>\n",
       "</table></div>"
      ],
      "text/plain": [
       "   store       date  weekly_sales  holiday_flag  temperature  fuel_price  \\\n",
       "0      1 2010-05-02    1643690.90             0        42.31       2.572   \n",
       "1      1 2010-12-02    1641957.44             1        38.51       2.548   \n",
       "2      1 2010-02-19    1611968.17             0        39.93       2.514   \n",
       "\n",
       "          cpi  unemployment  employment  year  month  day  day_of_week  \n",
       "0  211.096358         8.106      91.894  2010      5    2            6  \n",
       "1  211.242170         8.106      91.894  2010     12    2            3  \n",
       "2  211.289143         8.106      91.894  2010      2   19            4  "
      ]
     },
     "execution_count": 16,
     "metadata": {},
     "output_type": "execute_result"
    }
   ],
   "source": [
    "data['employment'] = 100 - data['unemployment']\n",
    "# split the date column\n",
    "data['year']= data['date'].dt.year\n",
    "data['month'] = data['date'].dt.month\n",
    "data['day'] = data['date'].dt.day\n",
    "data['day_of_week'] = data['date'].dt.dayofweek\n",
    "data.head(3)"
   ]
  },
  {
   "cell_type": "code",
   "execution_count": 17,
   "id": "ad72e3f7-5522-4783-9155-685ea321046f",
   "metadata": {},
   "outputs": [
    {
     "data": {
      "text/html": [
       "<div><div id=b2c1f75e-62b3-4b4e-bc68-e4766d98e2df style=\"display:none; background-color:#9D6CFF; color:white; width:200px; height:30px; padding-left:5px; border-radius:4px; flex-direction:row; justify-content:space-around; align-items:center;\" onmouseover=\"this.style.backgroundColor='#BA9BF8'\" onmouseout=\"this.style.backgroundColor='#9D6CFF'\" onclick=\"window.commands?.execute('create-mitosheet-from-dataframe-output');\">See Full Dataframe in Mito</div> <script> if (window.commands?.hasCommand('create-mitosheet-from-dataframe-output')) document.getElementById('b2c1f75e-62b3-4b4e-bc68-e4766d98e2df').style.display = 'flex' </script> <table border=\"1\" class=\"dataframe\">\n",
       "  <thead>\n",
       "    <tr style=\"text-align: right;\">\n",
       "      <th>year</th>\n",
       "      <th>2010</th>\n",
       "      <th>2011</th>\n",
       "      <th>2012</th>\n",
       "    </tr>\n",
       "    <tr>\n",
       "      <th>month</th>\n",
       "      <th></th>\n",
       "      <th></th>\n",
       "      <th></th>\n",
       "    </tr>\n",
       "  </thead>\n",
       "  <tbody>\n",
       "    <tr>\n",
       "      <th>1</th>\n",
       "      <td>9.386639e+05</td>\n",
       "      <td>9.420697e+05</td>\n",
       "      <td>9.567817e+05</td>\n",
       "    </tr>\n",
       "    <tr>\n",
       "      <th>2</th>\n",
       "      <td>1.064372e+06</td>\n",
       "      <td>1.042273e+06</td>\n",
       "      <td>1.057997e+06</td>\n",
       "    </tr>\n",
       "    <tr>\n",
       "      <th>3</th>\n",
       "      <td>1.034590e+06</td>\n",
       "      <td>1.011263e+06</td>\n",
       "      <td>1.025510e+06</td>\n",
       "    </tr>\n",
       "    <tr>\n",
       "      <th>4</th>\n",
       "      <td>1.021177e+06</td>\n",
       "      <td>1.033220e+06</td>\n",
       "      <td>1.014127e+06</td>\n",
       "    </tr>\n",
       "    <tr>\n",
       "      <th>5</th>\n",
       "      <td>1.039303e+06</td>\n",
       "      <td>1.015565e+06</td>\n",
       "      <td>1.053948e+06</td>\n",
       "    </tr>\n",
       "    <tr>\n",
       "      <th>...</th>\n",
       "      <td>...</td>\n",
       "      <td>...</td>\n",
       "      <td>...</td>\n",
       "    </tr>\n",
       "    <tr>\n",
       "      <th>8</th>\n",
       "      <td>1.025212e+06</td>\n",
       "      <td>1.044895e+06</td>\n",
       "      <td>1.064514e+06</td>\n",
       "    </tr>\n",
       "    <tr>\n",
       "      <th>9</th>\n",
       "      <td>9.983559e+05</td>\n",
       "      <td>1.026810e+06</td>\n",
       "      <td>9.988663e+05</td>\n",
       "    </tr>\n",
       "    <tr>\n",
       "      <th>10</th>\n",
       "      <td>1.027201e+06</td>\n",
       "      <td>1.020663e+06</td>\n",
       "      <td>1.044885e+06</td>\n",
       "    </tr>\n",
       "    <tr>\n",
       "      <th>11</th>\n",
       "      <td>1.176097e+06</td>\n",
       "      <td>1.126535e+06</td>\n",
       "      <td>1.042797e+06</td>\n",
       "    </tr>\n",
       "    <tr>\n",
       "      <th>12</th>\n",
       "      <td>1.198413e+06</td>\n",
       "      <td>1.274311e+06</td>\n",
       "      <td>1.025078e+06</td>\n",
       "    </tr>\n",
       "  </tbody>\n",
       "</table></div>"
      ],
      "text/plain": [
       "year           2010          2011          2012\n",
       "month                                          \n",
       "1      9.386639e+05  9.420697e+05  9.567817e+05\n",
       "2      1.064372e+06  1.042273e+06  1.057997e+06\n",
       "3      1.034590e+06  1.011263e+06  1.025510e+06\n",
       "4      1.021177e+06  1.033220e+06  1.014127e+06\n",
       "5      1.039303e+06  1.015565e+06  1.053948e+06\n",
       "6      1.055082e+06  1.038471e+06  1.082920e+06\n",
       "7      1.023702e+06  9.976049e+05  1.025480e+06\n",
       "8      1.025212e+06  1.044895e+06  1.064514e+06\n",
       "9      9.983559e+05  1.026810e+06  9.988663e+05\n",
       "10     1.027201e+06  1.020663e+06  1.044885e+06\n",
       "11     1.176097e+06  1.126535e+06  1.042797e+06\n",
       "12     1.198413e+06  1.274311e+06  1.025078e+06"
      ]
     },
     "execution_count": 17,
     "metadata": {},
     "output_type": "execute_result"
    }
   ],
   "source": [
    "# create the pivot table\n",
    "pivot_table = data.pivot_table(index='month', columns='year', values='weekly_sales')\n",
    "# display the pivot table\n",
    "pivot_table"
   ]
  },
  {
   "cell_type": "code",
   "execution_count": 18,
   "id": "2c144b88-20c8-46d5-ac57-0e1979f4b0d4",
   "metadata": {},
   "outputs": [
    {
     "data": {
      "image/png": "[encoded data removed]",
      "text/plain": [
       "<Figure size 1440x432 with 1 Axes>"
      ]
     },
     "metadata": {
      "needs_background": "light"
     },
     "output_type": "display_data"
    }
   ],
   "source": [
    "fig, ax = plt.subplots(figsize=(20, 6))\n",
    "sns.set_palette(\"bright\")\n",
    "sns.lineplot(x=pivot_table.index, y=pivot_table[2010]/1e6, ax=ax, label='2010')\n",
    "sns.lineplot( x=pivot_table.index, y=pivot_table[2011]/1e6, ax=ax, label='2011')\n",
    "sns.lineplot( x=pivot_table.index, y=pivot_table[2012]/1e6, ax=ax, label='2012')\n",
    "plt.ylabel('Average weekly sales (in millions USD)')\n",
    "plt.title('Average Sales Trends for 2010, 2011 & 2012', fontdict ={'fontsize':16,\n",
    "                                                                   'color':'blue',\n",
    "                                                                  }\n",
    "         )\n",
    "# Add a legend\n",
    "plt.legend()\n",
    "plt.show()"
   ]
  },
  {
   "cell_type": "code",
   "execution_count": 19,
   "id": "afa098fa-d426-4a75-8322-42dd057c50a4",
   "metadata": {},
   "outputs": [
    {
     "data": {
      "image/png": "[encoded data removed]",
      "text/plain": [
       "<Figure size 1080x1080 with 2 Axes>"
      ]
     },
     "metadata": {
      "needs_background": "light"
     },
     "output_type": "display_data"
    }
   ],
   "source": [
    "fig, ax = plt.subplots(figsize=(15,15))\n",
    "heatmap = sns.heatmap(data.corr(), vmin=-1, vmax=1, annot=True, cmap =\"YlGnBu\")\n",
    "heatmap.set_title('Correlation Heatmap', fontdict={'fontsize':14}, pad=12);"
   ]
  },
  {
   "cell_type": "code",
   "execution_count": 20,
   "id": "1673a196-663d-49b8-920a-ea4927ea94d7",
   "metadata": {},
   "outputs": [
    {
     "data": {
      "text/html": [
       "<div><div id=9805337d-aad8-4f3a-8fee-e317abe4e13d style=\"display:none; background-color:#9D6CFF; color:white; width:200px; height:30px; padding-left:5px; border-radius:4px; flex-direction:row; justify-content:space-around; align-items:center;\" onmouseover=\"this.style.backgroundColor='#BA9BF8'\" onmouseout=\"this.style.backgroundColor='#9D6CFF'\" onclick=\"window.commands?.execute('create-mitosheet-from-dataframe-output');\">See Full Dataframe in Mito</div> <script> if (window.commands?.hasCommand('create-mitosheet-from-dataframe-output')) document.getElementById('9805337d-aad8-4f3a-8fee-e317abe4e13d').style.display = 'flex' </script> <table border=\"1\" class=\"dataframe\">\n",
       "  <thead>\n",
       "    <tr style=\"text-align: right;\">\n",
       "      <th></th>\n",
       "      <th>store</th>\n",
       "      <th>date</th>\n",
       "      <th>weekly_sales</th>\n",
       "      <th>holiday_flag</th>\n",
       "      <th>temperature</th>\n",
       "      <th>fuel_price</th>\n",
       "      <th>cpi</th>\n",
       "      <th>unemployment</th>\n",
       "      <th>employment</th>\n",
       "      <th>year</th>\n",
       "      <th>month</th>\n",
       "      <th>day</th>\n",
       "      <th>day_of_week</th>\n",
       "    </tr>\n",
       "  </thead>\n",
       "  <tbody>\n",
       "    <tr>\n",
       "      <th>0</th>\n",
       "      <td>1</td>\n",
       "      <td>2010-05-02</td>\n",
       "      <td>1643690.90</td>\n",
       "      <td>0</td>\n",
       "      <td>42.31</td>\n",
       "      <td>2.572</td>\n",
       "      <td>211.096358</td>\n",
       "      <td>8.106</td>\n",
       "      <td>91.894</td>\n",
       "      <td>2010</td>\n",
       "      <td>5</td>\n",
       "      <td>2</td>\n",
       "      <td>6</td>\n",
       "    </tr>\n",
       "    <tr>\n",
       "      <th>1</th>\n",
       "      <td>1</td>\n",
       "      <td>2010-12-02</td>\n",
       "      <td>1641957.44</td>\n",
       "      <td>1</td>\n",
       "      <td>38.51</td>\n",
       "      <td>2.548</td>\n",
       "      <td>211.242170</td>\n",
       "      <td>8.106</td>\n",
       "      <td>91.894</td>\n",
       "      <td>2010</td>\n",
       "      <td>12</td>\n",
       "      <td>2</td>\n",
       "      <td>3</td>\n",
       "    </tr>\n",
       "    <tr>\n",
       "      <th>2</th>\n",
       "      <td>1</td>\n",
       "      <td>2010-02-19</td>\n",
       "      <td>1611968.17</td>\n",
       "      <td>0</td>\n",
       "      <td>39.93</td>\n",
       "      <td>2.514</td>\n",
       "      <td>211.289143</td>\n",
       "      <td>8.106</td>\n",
       "      <td>91.894</td>\n",
       "      <td>2010</td>\n",
       "      <td>2</td>\n",
       "      <td>19</td>\n",
       "      <td>4</td>\n",
       "    </tr>\n",
       "    <tr>\n",
       "      <th>3</th>\n",
       "      <td>1</td>\n",
       "      <td>2010-02-26</td>\n",
       "      <td>1409727.59</td>\n",
       "      <td>0</td>\n",
       "      <td>46.63</td>\n",
       "      <td>2.561</td>\n",
       "      <td>211.319643</td>\n",
       "      <td>8.106</td>\n",
       "      <td>91.894</td>\n",
       "      <td>2010</td>\n",
       "      <td>2</td>\n",
       "      <td>26</td>\n",
       "      <td>4</td>\n",
       "    </tr>\n",
       "    <tr>\n",
       "      <th>4</th>\n",
       "      <td>1</td>\n",
       "      <td>2010-05-03</td>\n",
       "      <td>1554806.68</td>\n",
       "      <td>0</td>\n",
       "      <td>46.50</td>\n",
       "      <td>2.625</td>\n",
       "      <td>211.350143</td>\n",
       "      <td>8.106</td>\n",
       "      <td>91.894</td>\n",
       "      <td>2010</td>\n",
       "      <td>5</td>\n",
       "      <td>3</td>\n",
       "      <td>0</td>\n",
       "    </tr>\n",
       "  </tbody>\n",
       "</table></div>"
      ],
      "text/plain": [
       "   store       date  weekly_sales  holiday_flag  temperature  fuel_price  \\\n",
       "0      1 2010-05-02    1643690.90             0        42.31       2.572   \n",
       "1      1 2010-12-02    1641957.44             1        38.51       2.548   \n",
       "2      1 2010-02-19    1611968.17             0        39.93       2.514   \n",
       "3      1 2010-02-26    1409727.59             0        46.63       2.561   \n",
       "4      1 2010-05-03    1554806.68             0        46.50       2.625   \n",
       "\n",
       "          cpi  unemployment  employment  year  month  day  day_of_week  \n",
       "0  211.096358         8.106      91.894  2010      5    2            6  \n",
       "1  211.242170         8.106      91.894  2010     12    2            3  \n",
       "2  211.289143         8.106      91.894  2010      2   19            4  \n",
       "3  211.319643         8.106      91.894  2010      2   26            4  \n",
       "4  211.350143         8.106      91.894  2010      5    3            0  "
      ]
     },
     "execution_count": 20,
     "metadata": {},
     "output_type": "execute_result"
    }
   ],
   "source": [
    "test_data = data.copy()\n",
    "test_data.head()"
   ]
  },
  {
   "cell_type": "code",
   "execution_count": 21,
   "id": "7ee2e3ab-562a-4427-91ad-d4ae173da89c",
   "metadata": {},
   "outputs": [
    {
     "data": {
      "text/plain": [
       "0      2010-05-02\n",
       "1      2010-12-02\n",
       "2      2010-02-19\n",
       "3      2010-02-26\n",
       "4      2010-05-03\n",
       "          ...    \n",
       "6430   2012-09-28\n",
       "6431   2012-05-10\n",
       "6432   2012-12-10\n",
       "6433   2012-10-19\n",
       "6434   2012-10-26\n",
       "Name: date, Length: 6435, dtype: datetime64[ns]"
      ]
     },
     "execution_count": 21,
     "metadata": {},
     "output_type": "execute_result"
    }
   ],
   "source": [
    "test_data.pop('date')"
   ]
  },
  {
   "cell_type": "code",
   "execution_count": 52,
   "id": "63a94ce4-e3ed-4bae-97d2-a647bad5d4e3",
   "metadata": {},
   "outputs": [],
   "source": [
    "x = test_data.drop('weekly_sales',axis=1)\n",
    "y = test_data['weekly_sales']"
   ]
  },
  {
   "cell_type": "code",
   "execution_count": 53,
   "id": "8bcb86b4-76b3-4a05-bb08-5609e270c9e8",
   "metadata": {},
   "outputs": [],
   "source": [
    "from sklearn.preprocessing import StandardScaler\n",
    "scaler = StandardScaler()\n",
    "X_scaled = scaler.fit_transform(x)"
   ]
  },
  {
   "cell_type": "code",
   "execution_count": 54,
   "id": "18c62f31-d9b0-4bee-b9c5-91a6c5d18c1f",
   "metadata": {},
   "outputs": [
    {
     "data": {
      "text/html": [
       "<div><div id=7fb409ad-24c4-4a89-b2bf-f66db63fce49 style=\"display:none; background-color:#9D6CFF; color:white; width:200px; height:30px; padding-left:5px; border-radius:4px; flex-direction:row; justify-content:space-around; align-items:center;\" onmouseover=\"this.style.backgroundColor='#BA9BF8'\" onmouseout=\"this.style.backgroundColor='#9D6CFF'\" onclick=\"window.commands?.execute('create-mitosheet-from-dataframe-output');\">See Full Dataframe in Mito</div> <script> if (window.commands?.hasCommand('create-mitosheet-from-dataframe-output')) document.getElementById('7fb409ad-24c4-4a89-b2bf-f66db63fce49').style.display = 'flex' </script> <table border=\"1\" class=\"dataframe\">\n",
       "  <thead>\n",
       "    <tr style=\"text-align: right;\">\n",
       "      <th></th>\n",
       "      <th>store</th>\n",
       "      <th>holiday_flag</th>\n",
       "      <th>temperature</th>\n",
       "      <th>fuel_price</th>\n",
       "      <th>cpi</th>\n",
       "      <th>unemployment</th>\n",
       "      <th>employment</th>\n",
       "      <th>year</th>\n",
       "      <th>month</th>\n",
       "      <th>day</th>\n",
       "      <th>day_of_week</th>\n",
       "    </tr>\n",
       "  </thead>\n",
       "  <tbody>\n",
       "    <tr>\n",
       "      <th>0</th>\n",
       "      <td>1</td>\n",
       "      <td>0</td>\n",
       "      <td>42.31</td>\n",
       "      <td>2.57</td>\n",
       "      <td>211.10</td>\n",
       "      <td>8.11</td>\n",
       "      <td>91.89</td>\n",
       "      <td>2010</td>\n",
       "      <td>5</td>\n",
       "      <td>2</td>\n",
       "      <td>6</td>\n",
       "    </tr>\n",
       "    <tr>\n",
       "      <th>1</th>\n",
       "      <td>1</td>\n",
       "      <td>1</td>\n",
       "      <td>38.51</td>\n",
       "      <td>2.55</td>\n",
       "      <td>211.24</td>\n",
       "      <td>8.11</td>\n",
       "      <td>91.89</td>\n",
       "      <td>2010</td>\n",
       "      <td>12</td>\n",
       "      <td>2</td>\n",
       "      <td>3</td>\n",
       "    </tr>\n",
       "    <tr>\n",
       "      <th>2</th>\n",
       "      <td>1</td>\n",
       "      <td>0</td>\n",
       "      <td>39.93</td>\n",
       "      <td>2.51</td>\n",
       "      <td>211.29</td>\n",
       "      <td>8.11</td>\n",
       "      <td>91.89</td>\n",
       "      <td>2010</td>\n",
       "      <td>2</td>\n",
       "      <td>19</td>\n",
       "      <td>4</td>\n",
       "    </tr>\n",
       "  </tbody>\n",
       "</table></div>"
      ],
      "text/plain": [
       "   store  holiday_flag  temperature  fuel_price    cpi  unemployment  \\\n",
       "0      1             0        42.31        2.57 211.10          8.11   \n",
       "1      1             1        38.51        2.55 211.24          8.11   \n",
       "2      1             0        39.93        2.51 211.29          8.11   \n",
       "\n",
       "   employment  year  month  day  day_of_week  \n",
       "0       91.89  2010      5    2            6  \n",
       "1       91.89  2010     12    2            3  \n",
       "2       91.89  2010      2   19            4  "
      ]
     },
     "execution_count": 54,
     "metadata": {},
     "output_type": "execute_result"
    }
   ],
   "source": [
    "x.head(3)"
   ]
  },
  {
   "cell_type": "code",
   "execution_count": null,
   "id": "3e9167e1-6f45-4e9c-9dd4-74598b2daa67",
   "metadata": {},
   "outputs": [],
   "source": [
    "from sklearn import preprocessing\n",
    "from sklearn import utils\n",
    "\n",
    "#convert y values to categorical values\n",
    "lab = preprocessing.LabelEncoder()\n",
    "y_transformed = lab.fit_transform(y)\n"
   ]
  },
  {
   "cell_type": "code",
   "execution_count": 55,
   "id": "2826856c-749e-4069-aab0-5d3a8638551b",
   "metadata": {},
   "outputs": [],
   "source": [
    "from sklearn.model_selection import train_test_split\n",
    "X_train, X_test, y_train, y_test = train_test_split(X_scaled, y, test_size=0.2, random_state=42)"
   ]
  },
  {
   "cell_type": "code",
   "execution_count": 56,
   "id": "5806573e-0188-4d60-a677-fc567fae638e",
   "metadata": {},
   "outputs": [],
   "source": [
    "from sklearn.metrics import mean_squared_error\n",
    "\n",
    "def evaluate_model(model, X_train, y_train, X_test, y_test):\n",
    "    # train\n",
    "    model.fit(X_train, y_train)\n",
    "    # predict\n",
    "    y_pred = model.predict(X_test)\n",
    "    # calculate MSE\n",
    "    mse = mean_squared_error(y_test, y_pred)\n",
    "    # calculate RMSE\n",
    "    rmse = np.sqrt(mse)\n",
    "    return rmse"
   ]
  },
  {
   "cell_type": "code",
   "execution_count": 57,
   "id": "9330b6ff-6775-48f3-a963-a39c84b503fe",
   "metadata": {},
   "outputs": [],
   "source": [
    "def evaluate_regressors_rmses(regressors, regressor_names, X_train, y_train, X_test, y_test):\n",
    "    # evaluate the models and compute their RMSE on the test data\n",
    "    rmses = [evaluate_model(regressor, X_train, y_train, X_test, y_test) for regressor in regressors]\n",
    "    # create a dictionary mapping the names of the regressors to their RMSE\n",
    "    regressor_rmses = dict(zip(regressor_names, rmses))\n",
    "    # convert the dictionary to a pandas dataframe\n",
    "    df = pd.DataFrame.from_dict(regressor_rmses, orient='index')\n",
    "    # reset the index of the dataframe\n",
    "    df = df.reset_index()\n",
    "    # rename the columns of the dataframe\n",
    "    df.columns = ['regressor_name', 'rmse']\n",
    "    # sort the dataframe by RMSE in ascending order\n",
    "    return df.sort_values('rmse', ignore_index=True)"
   ]
  },
  {
   "cell_type": "code",
   "execution_count": 58,
   "id": "53c3205a-fe48-41e8-ab57-7d7495afe56d",
   "metadata": {},
   "outputs": [],
   "source": [
    "from sklearn.linear_model import LinearRegression\n",
    "from sklearn.preprocessing import MinMaxScaler\n",
    "from sklearn.preprocessing import PolynomialFeatures\n",
    "from sklearn.pipeline import Pipeline\n",
    "from sklearn.linear_model import Ridge\n",
    "from sklearn.linear_model import Lasso\n",
    "from sklearn.linear_model import ElasticNet\n",
    "from sklearn.tree import DecisionTreeRegressor\n",
    "from sklearn.ensemble import RandomForestRegressor\n",
    "from sklearn.ensemble import GradientBoostingRegressor\n",
    "from sklearn.neural_network import MLPRegressor\n",
    "from sklearn.svm import SVR\n",
    "from sklearn.neighbors import KNeighborsRegressor\n",
    "from sklearn.pipeline import make_pipeline\n",
    "from sklearn.linear_model import LogisticRegression\n",
    "\n",
    "linear_regressor = LinearRegression()\n",
    "logistic_regression = LogisticRegression()\n",
    "polynomial_features = PolynomialFeatures(degree=2)\n",
    "polynomial_regressor = Pipeline([(\"polynomial_features\", polynomial_features),\n",
    "(\"linear_regression\", linear_regressor)])\n",
    "ridge_regressor = Ridge()\n",
    "lasso_regressor = Lasso()\n",
    "elastic_net_regressor = ElasticNet()\n",
    "decision_tree_regressor = DecisionTreeRegressor()\n",
    "random_forest_regressor = RandomForestRegressor()\n",
    "boosted_tree_regressor = GradientBoostingRegressor()\n",
    "neural_network_regressor = MLPRegressor()\n",
    "support_vector_regressor = SVR()\n",
    "grad_regressor = GradientBoostingRegressor(n_estimators=100, learning_rate=0.1, loss='ls')\n",
    "knn_regressor = KNeighborsRegressor(n_neighbors=5, weights='uniform')\n",
    "spline_regressor = make_pipeline(PolynomialFeatures(3), LinearRegression())"
   ]
  },
  {
   "cell_type": "code",
   "execution_count": 59,
   "id": "e2a2852f-8122-4a6c-9656-e3f24be34e7a",
   "metadata": {},
   "outputs": [],
   "source": [
    "\n",
    "regressors = [linear_regressor, logistic_regression, polynomial_regressor, ridge_regressor, lasso_regressor, elastic_net_regressor,\n",
    "decision_tree_regressor, random_forest_regressor, boosted_tree_regressor, neural_network_regressor,\n",
    "support_vector_regressor, knn_regressor, spline_regressor]\n",
    "\n",
    "regressor_names = [\"Linear Regression\",\"Logistic_Regression\", \"Polynomial Regression\", \"Ridge Regression\", \"Lasso\",\n",
    "\"Elastic Net Regression\", \"Decision Tree Regression\", \"Random Forest Regressor\",\n",
    "\"Boosted Tree Regression\", \"Neural Network Regression\", \"Support Vector Regressor\",\n",
    "\"K-Nearest Neighbour Regression\", \"Spline Regression\"]"
   ]
  },
  {
   "cell_type": "code",
   "execution_count": 60,
   "id": "262798a7-6116-47cc-9143-1331cb846be0",
   "metadata": {},
   "outputs": [],
   "source": [
    "# print('\\033[1m Table of regressors and their RMSEs')\n",
    "# evaluate_regressors_rmses(regressors, regressor_names, X_train, y_train, X_test, y_test)"
   ]
  },
  {
   "cell_type": "code",
   "execution_count": 64,
   "id": "108c98e3-3332-4855-beb9-c5c4df363547",
   "metadata": {},
   "outputs": [],
   "source": [
    "# !pip install lazypredict"
   ]
  },
  {
   "cell_type": "code",
   "execution_count": 65,
   "id": "d6535b0f-13ef-4051-a947-bd9ff840764a",
   "metadata": {},
   "outputs": [
    {
     "name": "stdout",
     "output_type": "stream",
     "text": [
      "[[-0.38499525 -0.27420425 -0.99079799 ...  1.66322793 -1.44522106\n",
      "   0.29904117]\n",
      " [ 0.07699905 -0.27420425  0.4454804  ... -0.14316392  0.95389383\n",
      "   0.29904117]\n",
      " [-1.61698006 -0.27420425  0.28227927 ...  1.06109731  1.41086809\n",
      "   0.29904117]\n",
      " ...\n",
      " [ 1.69397911 -0.27420425 -1.80843024 ... -0.44422923 -1.55946462\n",
      "   1.70110303]\n",
      " [-1.61698006 -0.27420425  0.14130819 ... -1.34742516 -1.33097749\n",
      "  -0.40198976]\n",
      " [-0.4619943  -0.27420425 -1.97651114 ... -0.74529454 -1.44522106\n",
      "   1.70110303]]\n",
      "[[-1.15498576 -0.27420425  0.79465491 ...  0.760032    0.15418887\n",
      "   0.29904117]\n",
      " [-1.23198481 -0.27420425 -2.16682209 ...  1.36216262 -1.44522106\n",
      "  -0.40198976]\n",
      " [ 1.46298196 -0.27420425  0.03124231 ...  1.66322793 -0.53127253\n",
      "   1.0000721 ]\n",
      " ...\n",
      " [ 1.0779867  -0.27420425  1.41221666 ... -0.44422923 -0.87400323\n",
      "   1.70110303]\n",
      " [ 1.15498576  3.64691651 -0.86880379 ...  1.66322793  1.63935523\n",
      "   0.29904117]\n",
      " [-1.23198481 -0.27420425 -1.81005683 ... -1.34742516  0.382676\n",
      "   0.29904117]]\n",
      "1033    836707.85\n",
      "915     558963.83\n",
      "5903    588592.61\n",
      "2083    605413.17\n",
      "5943    526641.23\n",
      "          ...    \n",
      "3772   1709365.19\n",
      "5191    508213.14\n",
      "5226    510787.46\n",
      "5390    342667.35\n",
      "860     506760.54\n",
      "Name: weekly_sales, Length: 5148, dtype: float64\n",
      "2436   1138800.32\n",
      "3361   1304850.67\n",
      "233    1769296.25\n",
      "3667   1077640.13\n",
      "5011    428851.99\n",
      "          ...    \n",
      "2600   1492060.89\n",
      "6308    801098.43\n",
      "6292    890689.51\n",
      "151    2066187.72\n",
      "2344    816138.33\n",
      "Name: weekly_sales, Length: 1287, dtype: float64\n"
     ]
    }
   ],
   "source": [
    "print(X_test)\n",
    "print(X_train)\n",
    "print(y_train)\n",
    "print(y_test)"
   ]
  },
  {
   "cell_type": "code",
   "execution_count": 68,
   "id": "4cd79b63-e723-4232-b816-7ce1776eed98",
   "metadata": {},
   "outputs": [
    {
     "name": "stderr",
     "output_type": "stream",
     "text": [
      "100%|██████████████████████████████████████████| 29/29 [00:00<00:00, 170.61it/s]"
     ]
    },
    {
     "name": "stdout",
     "output_type": "stream",
     "text": [
      "AdaBoostClassifier model failed to execute\n",
      "Unknown label type: 'continuous'\n",
      "BaggingClassifier model failed to execute\n",
      "Unknown label type: 'continuous'\n",
      "BernoulliNB model failed to execute\n",
      "Unknown label type: (array([836707.85, 558963.83, 588592.61, ..., 510787.46, 342667.35,\n",
      "       506760.54]),)\n",
      "CalibratedClassifierCV model failed to execute\n",
      "Unknown label type: 'continuous'\n",
      "CategoricalNB model failed to execute\n",
      "Negative values in data passed to CategoricalNB (input X)\n",
      "DecisionTreeClassifier model failed to execute\n",
      "Unknown label type: 'continuous'\n",
      "DummyClassifier model failed to execute\n",
      "continuous is not supported\n",
      "ExtraTreeClassifier model failed to execute\n",
      "Unknown label type: 'continuous'\n",
      "ExtraTreesClassifier model failed to execute\n",
      "Unknown label type: 'continuous'\n",
      "GaussianNB model failed to execute\n",
      "Unknown label type: (array([ 209986.25,  215359.21,  219804.85, ..., 3595903.2 , 3676388.98,\n",
      "       3749057.69]),)\n",
      "KNeighborsClassifier model failed to execute\n",
      "Unknown label type: 'continuous'\n",
      "LabelPropagation model failed to execute\n",
      "Unknown label type: 'continuous'\n",
      "LabelSpreading model failed to execute\n",
      "Unknown label type: 'continuous'\n",
      "LinearDiscriminantAnalysis model failed to execute\n",
      "Unknown label type: (array([836707.85, 558963.83, 588592.61, ..., 510787.46, 342667.35,\n",
      "       506760.54]),)\n",
      "LinearSVC model failed to execute\n",
      "Unknown label type: 'continuous'\n",
      "LogisticRegression model failed to execute\n",
      "Unknown label type: 'continuous'\n",
      "NearestCentroid model failed to execute\n",
      "Unknown label type: 'continuous'\n",
      "NuSVC model failed to execute\n",
      "Unknown label type: 'continuous'\n",
      "PassiveAggressiveClassifier model failed to execute\n",
      "Unknown label type: (array([ 209986.25,  215359.21,  219804.85, ..., 3595903.2 , 3676388.98,\n",
      "       3749057.69]),)\n",
      "Perceptron model failed to execute\n",
      "Unknown label type: (array([ 209986.25,  215359.21,  219804.85, ..., 3595903.2 , 3676388.98,\n",
      "       3749057.69]),)\n",
      "QuadraticDiscriminantAnalysis model failed to execute\n",
      "Unknown label type: 'continuous'\n",
      "RandomForestClassifier model failed to execute\n",
      "Unknown label type: 'continuous'\n",
      "RidgeClassifier model failed to execute\n",
      "Unknown label type: (array([836707.85, 558963.83, 588592.61, ..., 510787.46, 342667.35,\n",
      "       506760.54]),)\n",
      "RidgeClassifierCV model failed to execute\n",
      "Unknown label type: (array([836707.85, 558963.83, 588592.61, ..., 510787.46, 342667.35,\n",
      "       506760.54]),)\n",
      "SGDClassifier model failed to execute\n",
      "Unknown label type: (array([ 209986.25,  215359.21,  219804.85, ..., 3595903.2 , 3676388.98,\n",
      "       3749057.69]),)\n",
      "SVC model failed to execute\n",
      "Unknown label type: 'continuous'\n",
      "StackingClassifier model failed to execute\n",
      "__init__() missing 1 required positional argument: 'estimators'\n",
      "XGBClassifier model failed to execute\n",
      "Invalid classes inferred from unique values of `y`.  Expected: [   0    1    2 ... 5145 5146 5147], got [ 209986.25  215359.21  219804.85 ... 3595903.2  3676388.98 3749057.69]\n",
      "LGBMClassifier model failed to execute\n",
      "Unknown label type: 'continuous'\n"
     ]
    },
    {
     "name": "stderr",
     "output_type": "stream",
     "text": [
      "\n"
     ]
    }
   ],
   "source": [
    "from lazypredict.Supervised import LazyClassifier\n",
    "reg = LazyClassifier(verbose=0, ignore_warnings=False,custom_metric=None)\n",
    "models,predictons = reg.fit(X_train,X_test,y_train,y_test)"
   ]
  },
  {
   "cell_type": "code",
   "execution_count": 69,
   "id": "e7a5558c-bbd8-4e1d-a98b-77d8efb8d6b9",
   "metadata": {},
   "outputs": [
    {
     "name": "stdout",
     "output_type": "stream",
     "text": [
      "Empty DataFrame\n",
      "Columns: [Accuracy, Balanced Accuracy, ROC AUC, F1 Score, Time Taken]\n",
      "Index: []\n"
     ]
    }
   ],
   "source": [
    "print(models)"
   ]
  },
  {
   "cell_type": "code",
   "execution_count": null,
   "id": "3890e951-6278-4a3e-a09c-b105a6b7919d",
   "metadata": {},
   "outputs": [],
   "source": []
  },
  {
   "cell_type": "code",
   "execution_count": null,
   "id": "14e2951a-a02d-47f5-8d41-bfbab43234ea",
   "metadata": {},
   "outputs": [],
   "source": []
  },
  {
   "cell_type": "code",
   "execution_count": null,
   "id": "ef37dbd3-c7f3-4db4-a644-7f2dd1c635f3",
   "metadata": {},
   "outputs": [],
   "source": [
    "import warnings\n",
    "import itertools"
   ]
  },
  {
   "cell_type": "code",
   "execution_count": null,
   "id": "d21b2d90-6d3c-4c01-ae6b-9e22a758c02c",
   "metadata": {},
   "outputs": [],
   "source": [
    "import statsmodels.api as sm\n",
    "import statsmodels.tsa.api as smt\n",
    "import statsmodels.formula.api as smf"
   ]
  },
  {
   "cell_type": "code",
   "execution_count": null,
   "id": "5feb5091-e2f1-493b-8f2c-833ad12dc410",
   "metadata": {},
   "outputs": [],
   "source": [
    "data"
   ]
  },
  {
   "cell_type": "code",
   "execution_count": null,
   "id": "c8011415-1fa1-48ea-8251-e3c22a92eb1f",
   "metadata": {},
   "outputs": [],
   "source": [
    "week_sales= data.groupby('date')['weekly_sales'].sum()\n",
    "week_sales"
   ]
  },
  {
   "cell_type": "code",
   "execution_count": null,
   "id": "c548ca55-c695-4da0-a298-548cdd6cda92",
   "metadata": {},
   "outputs": [],
   "source": [
    "plt.figure(figsize=(12,7))\n",
    "plt.plot(week_sales)\n",
    "plt.xlabel(\"Years\")\n",
    "plt.ylabel(\"Weekly_Sales\")"
   ]
  },
  {
   "cell_type": "code",
   "execution_count": null,
   "id": "de8ef1c8-eb45-45ee-947d-8e9cc39766e5",
   "metadata": {},
   "outputs": [],
   "source": [
    "fig,axes = plt.subplots(1,1)\n",
    "fig.set_figwidth(14)\n",
    "fig.set_figheight(8)\n",
    "\n",
    "plt.plot(data.index,data,label='Original')\n",
    "plt.plot(data.index,data.rolling(window=12).mean(),label='12 Months Rolling Mean')\n",
    "axes.set_title('12 Months Moving Average')\n",
    "plt.legend(loc='best')\n",
    "plt.tight_layout()\n",
    "plt.show()"
   ]
  },
  {
   "cell_type": "code",
   "execution_count": null,
   "id": "77eab858-216f-4703-a490-c111df676ac6",
   "metadata": {},
   "outputs": [],
   "source": []
  }
 ],
 "metadata": {
  "kernelspec": {
   "display_name": "Python 3 (ipykernel)",
   "language": "python",
   "name": "python3"
  },
  "language_info": {
   "codemirror_mode": {
    "name": "ipython",
    "version": 3
   },
   "file_extension": ".py",
   "mimetype": "text/x-python",
   "name": "python",
   "nbconvert_exporter": "python",
   "pygments_lexer": "ipython3",
   "version": "3.9.13"
  }
 },
 "nbformat": 4,
 "nbformat_minor": 5
}
